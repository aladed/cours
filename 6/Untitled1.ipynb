{
 "cells": [
  {
   "cell_type": "code",
   "execution_count": null,
   "id": "7b9e0f7a-6339-46a0-a53d-8601eb2fe4af",
   "metadata": {},
   "outputs": [],
   "source": [
    "import telegram\n",
    "\n",
    "def send_message(chat_id, message):\n",
    "    bot_token = '7759544569:AAFQyuFCjYA5BW7VeKdM74Yxjg4h5oD2bkw'\n",
    "    bot = telegram.Bot(token=bot_token)\n",
    "    bot.send_message(chat_id=chat_id, text=message)\n"
   ]
  }
 ],
 "metadata": {
  "kernelspec": {
   "display_name": "Python [conda env:base] *",
   "language": "python",
   "name": "conda-base-py"
  },
  "language_info": {
   "codemirror_mode": {
    "name": "ipython",
    "version": 3
   },
   "file_extension": ".py",
   "mimetype": "text/x-python",
   "name": "python",
   "nbconvert_exporter": "python",
   "pygments_lexer": "ipython3",
   "version": "3.12.7"
  }
 },
 "nbformat": 4,
 "nbformat_minor": 5
}
