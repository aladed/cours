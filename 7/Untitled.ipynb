{
 "cells": [
  {
   "cell_type": "code",
   "execution_count": 1,
   "id": "042e6e9d-52d9-4fbc-942d-db2687e473bc",
   "metadata": {},
   "outputs": [],
   "source": [
    "class Triangle:\n",
    "    # Поле n_dots объявлено на уровне класса\n",
    "    n_dots = 3\n",
    "\n",
    "    def __init__(self, a, b, c):\n",
    "        # Инициализация сторон треугольника\n",
    "        self.a = a\n",
    "        self.b = b\n",
    "        self.c = c\n",
    "\n",
    "# Создание объектов класса Triangle\n",
    "tr_1 = Triangle(3, 4, 5)\n",
    "tr_2 = Triangle(5, 12, 13)"
   ]
  },
  {
   "cell_type": "code",
   "execution_count": 3,
   "id": "9061c060-5254-4b80-b5db-307d75779c0f",
   "metadata": {},
   "outputs": [],
   "source": [
    "class Triangle:\n",
    "    # Поле n_dots объявлено на уровне класса\n",
    "    n_dots = 3\n",
    "\n",
    "    def __init__(self, a, b, c):\n",
    "        # Инициализация сторон треугольника\n",
    "        self.a = a\n",
    "        self.b = b\n",
    "        self.c = c\n",
    "\n",
    "# Создание объектов класса Triangle\n",
    "tr_1 = Triangle(3, 4, 5)\n",
    "tr_2 = Triangle(5, 12, 13)"
   ]
  },
  {
   "cell_type": "code",
   "execution_count": 25,
   "id": "fc257bd0-fd9e-48c6-8fc0-6d37ff804cb0",
   "metadata": {},
   "outputs": [],
   "source": [
    "class Triangle(BaseFigure):\n",
    "    n_dots = 3\n",
    "\n",
    "    def __init__(self, a, b, c):\n",
    "        # Проверка неравенства треугольника\n",
    "        if a + b <= c or a + c <= b or b + c <= a:\n",
    "            raise ValueError(\"triangle inequality does not hold\")\n",
    "        \n",
    "        self.a = a\n",
    "        self.b = b\n",
    "        self.c = c\n",
    "\n",
    "    def area(self):\n",
    "        # Вычисление полупериметра\n",
    "        p = (self.a + self.b + self.c) / 2\n",
    "        # Вычисление площади по формуле Герона\n",
    "        return (p * (p - self.a) * (p - self.b) * (p - self.c)) ** 0.5\n",
    "\n",
    "# Создание объектов с соблюдением неравенства треугольника\n",
    "tr_1 = Triangle(3, 4, 5)\n",
    "tr_2 = Triangle(5, 12, 13)\n",
    "\n",
    "# Вычисление площадей треугольников\n",
    "square_1 = tr_1.area()\n",
    "square_2 = tr_2.area()\n"
   ]
  },
  {
   "cell_type": "code",
   "execution_count": 27,
   "id": "9b7e2757-8879-4e83-ba12-93daad916fda",
   "metadata": {},
   "outputs": [],
   "source": [
    "class Rectangle(BaseFigure):\n",
    "    \n",
    "    n_dots = 4\n",
    "    \n",
    "    def __init__(self, a, b):\n",
    "        self.a = a\n",
    "        self.b = b\n",
    "        self.c = None \n",
    "\n",
    "    def area(self):\n",
    "        return self.a * self.b"
   ]
  },
  {
   "cell_type": "code",
   "execution_count": 23,
   "id": "95345add-3c35-4429-be94-f8b7c94802d4",
   "metadata": {},
   "outputs": [],
   "source": [
    "class BaseFigure:\n",
    "    n_dots = None\n",
    "    def area(self): \n",
    "        raise NotImplementedError()\n",
    "    def validate(self): \n",
    "        raise NotImplementedError()\n",
    "    def __init__(self):\n",
    "        self.validate()"
   ]
  },
  {
   "cell_type": "code",
   "execution_count": 83,
   "id": "8fdaab2a-e62a-4a77-b0c9-57680c2eefd4",
   "metadata": {},
   "outputs": [],
   "source": [
    "class Triangle(BaseFigure):\n",
    "    n_dots=3\n",
    "    def __init__ (self, a, b, c):  \n",
    "        self.a=a\n",
    "        self.b=b\n",
    "        self.c=c\n",
    "        super().__init__()\n",
    "    def area(self):\n",
    "        p = (self.a + self.b + self.c) / 2\n",
    "        return (p * (p - self.a) * (p - self.b) * (p - self.c)) ** 0.5\n",
    "    def validate(self):\n",
    "        if (self.a < (self.b + self.c) and self.b < (self.c + self.a) and self.c <(self.a + self.b)):\n",
    "            return self.a, self.b, self.c\n",
    "        else:\n",
    "            raise ValueError(\"triangle inequality does not hold\")"
   ]
  },
  {
   "cell_type": "code",
   "execution_count": 93,
   "id": "9818099a-ecf2-4e94-b81e-5a77098517c7",
   "metadata": {},
   "outputs": [],
   "source": [
    "class Rectangle(BaseFigure):\n",
    "    n_dots=4\n",
    "    def __init__(self, a, b):\n",
    "        self.a=a\n",
    "        self.b=b\n",
    "        super().__init__()\n",
    "    def area(self):\n",
    "        return self.a * self.b\n",
    "    def validate(self):\n",
    "        return self.a, self.b"
   ]
  },
  {
   "cell_type": "code",
   "execution_count": 75,
   "id": "da0acc01-88c0-4682-8ec0-38d97cb4e202",
   "metadata": {},
   "outputs": [],
   "source": [
    "triangle = Triangle(13,14,22)"
   ]
  },
  {
   "cell_type": "code",
   "execution_count": 81,
   "id": "08b9e3c6-05df-412d-a531-f0d35f3587c2",
   "metadata": {},
   "outputs": [
    {
     "name": "stdout",
     "output_type": "stream",
     "text": [
      "(13, 14, 22)\n"
     ]
    }
   ],
   "source": [
    "print(triangle.validate())"
   ]
  },
  {
   "cell_type": "code",
   "execution_count": 95,
   "id": "24bb466c-cf93-4df9-a34f-7dd52e392cd9",
   "metadata": {},
   "outputs": [
    {
     "name": "stdout",
     "output_type": "stream",
     "text": [
      "(12, 12)\n"
     ]
    }
   ],
   "source": [
    "rectangle = Rectangle(12,12)\n",
    "print(rectangle.validate())"
   ]
  },
  {
   "cell_type": "code",
   "execution_count": 113,
   "id": "1839c5a5-bcfe-4187-972a-620f79ec5e41",
   "metadata": {},
   "outputs": [],
   "source": [
    "class Circle(BaseFigure):\n",
    "    n_dots=float('inf')\n",
    "    def area(self,):\n",
    "        return 3.14*self.r**2\n",
    "    def __init__(self, r):\n",
    "        self.r=r\n",
    "        super().__init__()\n",
    "    def validate(self):\n",
    "        return self.r"
   ]
  },
  {
   "cell_type": "code",
   "execution_count": 115,
   "id": "fa99ec1e-a433-4a01-8107-b55be165f39f",
   "metadata": {},
   "outputs": [
    {
     "name": "stdout",
     "output_type": "stream",
     "text": [
      "452.16\n"
     ]
    }
   ],
   "source": [
    "circle = Circle(12)\n",
    "print(circle.area())"
   ]
  },
  {
   "cell_type": "code",
   "execution_count": 155,
   "id": "3e031318-40b9-410c-8ac7-2af513581cc4",
   "metadata": {},
   "outputs": [],
   "source": [
    "class Vector:    \n",
    "    def __init__(self, coords):\n",
    "        self.coords = coords\n",
    "   \n",
    "    def __add__(self, other):\n",
    "        if len(self.coords) != len(other.coords):\n",
    "            raise ValueError(f\"left and right lengths differ: {len(self.coords)} != {len(other.coords)}\")\n",
    "        res = []        \n",
    "        for i in range(len(self.coords)):\n",
    "            res.append(self.coords[i] + other.coords[i])\n",
    "        return Vector(res)\n",
    "    def __str__(self):\n",
    "        return f'{self.coords}'\n",
    "    def __mul__(self, other):\n",
    "        if isinstance(other, (int, float)):\n",
    "            return Vector([i * other for i in self.coords])\n",
    "        elif len(self.coords) != len(other.coords):\n",
    "            raise ValueError(f\"left and right lengths differ: {len(self.coords)} != {len(other.coords)}\")\n",
    "        else:\n",
    "            return sum([a * b for a, b in zip(self.coords, other.coords)])\n",
    "    def __abs__():\n",
    "        "
   ]
  },
  {
   "cell_type": "code",
   "execution_count": 153,
   "id": "174b7679-6e57-4b63-91b0-2e296b434f6f",
   "metadata": {},
   "outputs": [
    {
     "name": "stdout",
     "output_type": "stream",
     "text": [
      "[1]\n"
     ]
    }
   ],
   "source": [
    "vec=Vector([1])\n",
    "print(vec)"
   ]
  },
  {
   "cell_type": "code",
   "execution_count": 195,
   "id": "e3d7e332-8189-4004-8466-dc8f827d2f5f",
   "metadata": {},
   "outputs": [],
   "source": [
    "\n",
    "class Vector:\n",
    "    def __init__(self, coords: list):\n",
    "        self.coords = coords\n",
    "    \n",
    "    def __add__(self, other):\n",
    "        if len(self.coords) != len(other.coords):\n",
    "            raise ValueError(f\"left and right lengths differ: {len(self.coords)} != {len(other.coords)}\")\n",
    "        else:\n",
    "            return Vector([a + b for a, b in zip(self.coords, other.coords)])\n",
    "    def __str__(self):\n",
    "        return f'{self.coords}'\n",
    "    def __mul__(self, other):\n",
    "        if isinstance(other, (int, float)):\n",
    "            return Vector([i * other for i in self.coords])\n",
    "        elif len(self.coords) != len(other.coords):\n",
    "            raise ValueError(f\"left and right lengths differ: {len(self.coords)} != {len(other.coords)}\")\n",
    "        else:\n",
    "            return sum([a * b for a, b in zip(self.coords, other.coords)])\n",
    "    def __abs__(self):\n",
    "        return sum([i * i for i in self.coords])**0.5\n",
    "    def __eq__(self,other):\n",
    "        return self.coords==other"
   ]
  },
  {
   "cell_type": "code",
   "execution_count": 197,
   "id": "abc69713-b4ca-430a-921a-73bb83cbd836",
   "metadata": {},
   "outputs": [
    {
     "data": {
      "text/plain": [
       "13.0"
      ]
     },
     "execution_count": 197,
     "metadata": {},
     "output_type": "execute_result"
    }
   ],
   "source": [
    "abs(Vector([-12, 5]))"
   ]
  },
  {
   "cell_type": "code",
   "execution_count": 199,
   "id": "2b1315b3-3d3d-4475-887d-29fe8104810f",
   "metadata": {},
   "outputs": [
    {
     "data": {
      "text/plain": [
       "False"
      ]
     },
     "execution_count": 199,
     "metadata": {},
     "output_type": "execute_result"
    }
   ],
   "source": [
    "\n",
    "Vector([1, 3, 5]) == Vector([-1, 3, 5])  # False\n"
   ]
  },
  {
   "cell_type": "code",
   "execution_count": 211,
   "id": "73c2ff44-1850-42e5-8441-91f11841562c",
   "metadata": {},
   "outputs": [],
   "source": [
    "class ParsesCookies:\n",
    "    def cookies(self):\n",
    "        return self.request.get('cookies', {})\n",
    "    def is_authed(self, auth_key ):\n",
    "        return auth_key in self.cookies\n",
    "    \n",
    "    \n",
    "class ParsesBody:\n",
    "    def body(self):\n",
    "        return self.request.get(\"body\",'')\n",
    "\n",
    "class ParsesHeaders:\n",
    "    def headers(self):\n",
    "        return self.request.get(\"headers\",'')\n",
    "    def need_json(self):\n",
    "        return self.request.get('headers', {}).get('content-type') == 'application/json'"
   ]
  },
  {
   "cell_type": "code",
   "execution_count": 7,
   "id": "78e0180f-9997-4a32-8c82-c33e70329270",
   "metadata": {},
   "outputs": [],
   "source": [
    "class ParsesCookies:\n",
    "    \n",
    "    def __init__(self, handler: dict):\n",
    "        self.request = handler\n",
    "\n",
    "    \n",
    "    def cookies(self):\n",
    "        return self.request.get(\"cookies\", {})\n",
    "        \n",
    "    \n",
    "    def is_authed(self):\n",
    "        return 'auth_key' in self.cookies()\n",
    "\n",
    "class ParsesBody:\n",
    "    \n",
    "    def __init__(self, handler):\n",
    "        self.request = handler\n",
    "        \n",
    "    def body(self):\n",
    "        return self.request.get(\"body\", {})\n",
    "\n",
    "\n",
    "class ParsesHeaders:\n",
    "    \n",
    "    def __init__(self, handler):\n",
    "        self.request = handler\n",
    "        \n",
    "    def headers(self):\n",
    "        return self.request.get(\"headers\", {})\n",
    "    \n",
    "    def need_json(self):\n",
    "        return self.request.get('headers', {}).get('content-type') == 'application/json'"
   ]
  },
  {
   "cell_type": "code",
   "execution_count": 25,
   "id": "f5c65bc6-455e-4b84-915a-b1670449d727",
   "metadata": {},
   "outputs": [],
   "source": [
    "import json\n",
    "class JsonHandler(ParsesHeaders):\n",
    "    def __init__(self,request):\n",
    "        ParsesHeaders.__init__(self, request)\n",
    "        self.request = request\n",
    "        \n",
    "    def process(self):\n",
    "        if not self.need_json():\n",
    "            return None\n",
    "        else:\n",
    "            body = self.body()\n",
    "            try:\n",
    "                result = json.loads(body)\n",
    "                return len(result.keys())\n",
    "            except Exception:\n",
    "                return None"
   ]
  },
  {
   "cell_type": "code",
   "execution_count": 27,
   "id": "1ccddd9b-9a87-450d-a31d-58a0d633519f",
   "metadata": {},
   "outputs": [],
   "source": [
    "class SecureTextHandler(ParsesBody, ParsesCookies):\n",
    "    \n",
    "    def __init__(self, handler: dict):\n",
    "        self.request = handler\n",
    "    \n",
    "    def process(self):\n",
    "        if not self.is_authed():\n",
    "            return None\n",
    "        body_content = self.body()\n",
    "        return len(body_content)"
   ]
  }
 ],
 "metadata": {
  "kernelspec": {
   "display_name": "Python [conda env:base] *",
   "language": "python",
   "name": "conda-base-py"
  },
  "language_info": {
   "codemirror_mode": {
    "name": "ipython",
    "version": 3
   },
   "file_extension": ".py",
   "mimetype": "text/x-python",
   "name": "python",
   "nbconvert_exporter": "python",
   "pygments_lexer": "ipython3",
   "version": "3.12.7"
  }
 },
 "nbformat": 4,
 "nbformat_minor": 5
}
