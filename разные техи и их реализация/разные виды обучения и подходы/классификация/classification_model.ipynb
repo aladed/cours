{
 "cells": [
  {
   "cell_type": "markdown",
   "metadata": {},
   "source": [
    "LogisticRegression() — это класс из библиотеки sklearn.linear_model, который реализует логистическую регрессию.\n",
    "\n",
    "Основное назначение\n",
    "Используется для классификации (бинарной или многоклассовой), предсказывает вероятность принадлежности объекта к определенному классу.\n",
    "\n",
    "Как работает?\n",
    "Модель использует логистическую (сигмоидную) функцию для преобразования линейной комбинации признаков в вероятность:"
   ]
  },
  {
   "cell_type": "code",
   "execution_count": null,
   "metadata": {},
   "outputs": [],
   "source": [
    "model = LogisticRegression()"
   ]
  },
  {
   "cell_type": "markdown",
   "metadata": {},
   "source": [
    "**Основные параметры**      \n",
    "penalty: Вид регуляризации ('l1', 'l2', 'elasticnet', 'none').\n",
    "\n",
    "C: Инверсия силы регуляризации (чем меньше, тем сильнее регуляризация).\n",
    "\n",
    "solver: Метод оптимизации ('lbfgs', 'liblinear', 'saga' и др.).\n",
    "\n",
    "max_iter: Число итераций градиентного спуска.\n",
    "\n",
    "**Функции**         \n",
    ".fit(X, y) — обучает модель\n",
    "\n",
    ".predict(X) — предсказывает классы\n",
    "\n",
    ".predict_proba(X) — возвращает вероятности классов\n",
    "\n",
    ".score(X, y) — вычисляет точность (accuracy)"
   ]
  },
  {
   "cell_type": "code",
   "execution_count": null,
   "metadata": {},
   "outputs": [],
   "source": [
    "print(classification_report(y_test, pipe1.predict(X_test), digits=3))"
   ]
  },
  {
   "cell_type": "markdown",
   "metadata": {},
   "source": [
    "**Описание метрик**\n",
    "\n",
    "Метрика\t   Описание   \n",
    "Precision     (точность)\tДоля правильных предсказаний данного класса среди всех, для которых модель его предсказала.     \n",
    "Recall (полнота)\t  Доля правильных предсказаний данного класса среди всех его реальных примеров.   \n",
    "F1-score   \tСреднее гармоническое между precision и recall (важно, если классы несбалансированы).   \n",
    "Support\t   Количество примеров в тестовой выборке для каждого класса.   \n",
    "Accuracy  (точность всей модели)\t   Доля верных предсказаний среди всех объектов.      \n",
    "macro avg\t   Среднее значение precision, recall и F1-score по всем классам.     \n",
    "weighted avg\t   Средневзвешенное значение precision, recall и F1-score (учитывает количество примеров каждого класса).   \n"
   ]
  }
 ],
 "metadata": {
  "language_info": {
   "name": "python"
  }
 },
 "nbformat": 4,
 "nbformat_minor": 2
}
