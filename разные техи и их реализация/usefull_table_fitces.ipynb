{
 "cells": [
  {
   "cell_type": "markdown",
   "metadata": {},
   "source": [
    "константные признаки"
   ]
  },
  {
   "cell_type": "code",
   "execution_count": null,
   "metadata": {},
   "outputs": [],
   "source": [
    "#константные признаки\n",
    "\n",
    "for i in data.columns:\n",
    "    \n",
    "    if (data[i] == data[i][0]).all():\n",
    "        data.drop(columns=[i], inplace=True)"
   ]
  }
 ],
 "metadata": {
  "language_info": {
   "name": "python"
  }
 },
 "nbformat": 4,
 "nbformat_minor": 2
}
