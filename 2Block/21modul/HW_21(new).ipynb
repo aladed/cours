{
 "cells": [
  {
   "cell_type": "code",
   "execution_count": 1,
   "metadata": {},
   "outputs": [],
   "source": [
    "import warnings\n",
    "warnings.filterwarnings('ignore')\n",
    "\n",
    "import pandas as pd\n",
    "import numpy as np\n",
    "import matplotlib.pyplot as plt\n",
    "import seaborn as sns\n",
    "\n",
    "pd.options.display.max_columns = 500\n",
    "\n",
    "from sklearn.linear_model import LogisticRegression\n",
    "from sklearn.model_selection import train_test_split\n",
    "from sklearn.metrics import accuracy_score\n",
    "from sklearn.cluster import KMeans\n",
    "from sklearn.preprocessing import StandardScaler\n",
    "from sklearn.svm import LinearSVC\n",
    "from sklearn.ensemble import RandomForestClassifier\n",
    "from sklearn.decomposition import PCA"
   ]
  },
  {
   "cell_type": "markdown",
   "metadata": {},
   "source": [
    "# Кластеризация"
   ]
  },
  {
   "cell_type": "markdown",
   "metadata": {},
   "source": [
    "Наша задача - предсказать есть диабет у индивида или нет. В качестве таргета - колонка Diabetes. В нем три различных значения: `0`, `1`, `2`. `0` означает, что наблюдаемой здоров, `1` значит, что есть риск диабета, `2` означает наличие диабета. В качестве признаков будем использовать пол, количество лет в США, доход семьи и некоторые показатели, измеренные медицинскими работниками.  "
   ]
  },
  {
   "cell_type": "markdown",
   "metadata": {},
   "source": [
    "**Задание 1.** В этой части ДЗ попробуем использовать кластеризацию как инструмент при проведении моделирования в задаче классификации"
   ]
  },
  {
   "cell_type": "code",
   "execution_count": 2,
   "metadata": {},
   "outputs": [
    {
     "data": {
      "text/html": [
       "<div>\n",
       "<style scoped>\n",
       "    .dataframe tbody tr th:only-of-type {\n",
       "        vertical-align: middle;\n",
       "    }\n",
       "\n",
       "    .dataframe tbody tr th {\n",
       "        vertical-align: top;\n",
       "    }\n",
       "\n",
       "    .dataframe thead th {\n",
       "        text-align: right;\n",
       "    }\n",
       "</style>\n",
       "<table border=\"1\" class=\"dataframe\">\n",
       "  <thead>\n",
       "    <tr style=\"text-align: right;\">\n",
       "      <th></th>\n",
       "      <th>Gender</th>\n",
       "      <th>Years_in_US</th>\n",
       "      <th>Family_income</th>\n",
       "      <th>ArmCircum</th>\n",
       "      <th>SaggitalAbdominal</th>\n",
       "      <th>GripStrength</th>\n",
       "      <th>Breast_fed</th>\n",
       "      <th>Diabetes</th>\n",
       "    </tr>\n",
       "  </thead>\n",
       "  <tbody>\n",
       "    <tr>\n",
       "      <th>0</th>\n",
       "      <td>1</td>\n",
       "      <td>0.0</td>\n",
       "      <td>0.84</td>\n",
       "      <td>35.3</td>\n",
       "      <td>20.6</td>\n",
       "      <td>55.2</td>\n",
       "      <td>2.0</td>\n",
       "      <td>2.0</td>\n",
       "    </tr>\n",
       "    <tr>\n",
       "      <th>1</th>\n",
       "      <td>1</td>\n",
       "      <td>0.0</td>\n",
       "      <td>1.78</td>\n",
       "      <td>34.7</td>\n",
       "      <td>24.4</td>\n",
       "      <td>61.5</td>\n",
       "      <td>2.0</td>\n",
       "      <td>2.0</td>\n",
       "    </tr>\n",
       "    <tr>\n",
       "      <th>2</th>\n",
       "      <td>1</td>\n",
       "      <td>0.0</td>\n",
       "      <td>4.51</td>\n",
       "      <td>33.5</td>\n",
       "      <td>25.6</td>\n",
       "      <td>91.0</td>\n",
       "      <td>2.0</td>\n",
       "      <td>2.0</td>\n",
       "    </tr>\n",
       "    <tr>\n",
       "      <th>3</th>\n",
       "      <td>1</td>\n",
       "      <td>0.0</td>\n",
       "      <td>2.52</td>\n",
       "      <td>21.0</td>\n",
       "      <td>14.9</td>\n",
       "      <td>32.2</td>\n",
       "      <td>2.0</td>\n",
       "      <td>0.0</td>\n",
       "    </tr>\n",
       "    <tr>\n",
       "      <th>4</th>\n",
       "      <td>2</td>\n",
       "      <td>0.0</td>\n",
       "      <td>5.00</td>\n",
       "      <td>25.2</td>\n",
       "      <td>20.7</td>\n",
       "      <td>30.9</td>\n",
       "      <td>2.0</td>\n",
       "      <td>0.0</td>\n",
       "    </tr>\n",
       "  </tbody>\n",
       "</table>\n",
       "</div>"
      ],
      "text/plain": [
       "   Gender  Years_in_US  Family_income  ArmCircum  SaggitalAbdominal  \\\n",
       "0       1          0.0           0.84       35.3               20.6   \n",
       "1       1          0.0           1.78       34.7               24.4   \n",
       "2       1          0.0           4.51       33.5               25.6   \n",
       "3       1          0.0           2.52       21.0               14.9   \n",
       "4       2          0.0           5.00       25.2               20.7   \n",
       "\n",
       "   GripStrength  Breast_fed  Diabetes  \n",
       "0          55.2         2.0       2.0  \n",
       "1          61.5         2.0       2.0  \n",
       "2          91.0         2.0       2.0  \n",
       "3          32.2         2.0       0.0  \n",
       "4          30.9         2.0       0.0  "
      ]
     },
     "execution_count": 2,
     "metadata": {},
     "output_type": "execute_result"
    }
   ],
   "source": [
    "df = pd.read_csv('datahw21.csv', index_col='Unnamed: 0')\n",
    "\n",
    "df.head()"
   ]
  },
  {
   "cell_type": "code",
   "execution_count": 3,
   "metadata": {},
   "outputs": [
    {
     "data": {
      "text/plain": [
       "<Axes: >"
      ]
     },
     "execution_count": 3,
     "metadata": {},
     "output_type": "execute_result"
    },
    {
     "data": {
      "image/png": "[encoded data removed]",
      "text/plain": [
       "<Figure size 1000x1000 with 2 Axes>"
      ]
     },
     "metadata": {},
     "output_type": "display_data"
    }
   ],
   "source": [
    "### Посмотрим как устроены данные\n",
    "### Изобразим корреляционную матрицу\n",
    "\n",
    "colormap = plt.cm.viridis\n",
    "plt.figure(figsize=(10,10))\n",
    "sns.heatmap(df.corr(), linewidths=0.1, vmax=1.0, square=True, cmap=colormap, annot=True)"
   ]
  },
  {
   "cell_type": "code",
   "execution_count": 4,
   "metadata": {},
   "outputs": [],
   "source": [
    "### Разделим выборку на трейн-тест\n",
    "\n",
    "data = df.drop(['Diabetes'], axis=1)\n",
    "target = df[['Diabetes']]\n",
    "\n",
    "X_train, X_test, y_train, y_test = train_test_split(data,\n",
    "                                                    target, \n",
    "                                                    test_size=0.25,\n",
    "                                                    random_state=1)"
   ]
  },
  {
   "cell_type": "markdown",
   "metadata": {},
   "source": [
    "Для того, чтобы использовать K-means, лучше будет отнормировать данные. "
   ]
  },
  {
   "cell_type": "code",
   "execution_count": 5,
   "metadata": {},
   "outputs": [],
   "source": [
    "### Воспользуемся StandardScaler\n",
    "\n",
    "### Your code is here\n"
   ]
  },
  {
   "cell_type": "code",
   "execution_count": 6,
   "metadata": {},
   "outputs": [
    {
     "data": {
      "text/html": [
       "<div>\n",
       "<style scoped>\n",
       "    .dataframe tbody tr th:only-of-type {\n",
       "        vertical-align: middle;\n",
       "    }\n",
       "\n",
       "    .dataframe tbody tr th {\n",
       "        vertical-align: top;\n",
       "    }\n",
       "\n",
       "    .dataframe thead th {\n",
       "        text-align: right;\n",
       "    }\n",
       "</style>\n",
       "<table border=\"1\" class=\"dataframe\">\n",
       "  <thead>\n",
       "    <tr style=\"text-align: right;\">\n",
       "      <th></th>\n",
       "      <th>Gender</th>\n",
       "      <th>Years_in_US</th>\n",
       "      <th>Family_income</th>\n",
       "      <th>ArmCircum</th>\n",
       "      <th>SaggitalAbdominal</th>\n",
       "      <th>GripStrength</th>\n",
       "      <th>Breast_fed</th>\n",
       "    </tr>\n",
       "  </thead>\n",
       "  <tbody>\n",
       "    <tr>\n",
       "      <th>0</th>\n",
       "      <td>-1.017409</td>\n",
       "      <td>-0.198311</td>\n",
       "      <td>-0.311557</td>\n",
       "      <td>0.380926</td>\n",
       "      <td>-0.823248</td>\n",
       "      <td>0.282705</td>\n",
       "      <td>0.388951</td>\n",
       "    </tr>\n",
       "    <tr>\n",
       "      <th>1</th>\n",
       "      <td>0.982889</td>\n",
       "      <td>-0.198311</td>\n",
       "      <td>0.037744</td>\n",
       "      <td>0.057088</td>\n",
       "      <td>-0.306067</td>\n",
       "      <td>-1.259208</td>\n",
       "      <td>0.388951</td>\n",
       "    </tr>\n",
       "    <tr>\n",
       "      <th>2</th>\n",
       "      <td>-1.017409</td>\n",
       "      <td>-0.198311</td>\n",
       "      <td>-0.599577</td>\n",
       "      <td>-0.538774</td>\n",
       "      <td>-0.964298</td>\n",
       "      <td>-0.280860</td>\n",
       "      <td>0.388951</td>\n",
       "    </tr>\n",
       "    <tr>\n",
       "      <th>3</th>\n",
       "      <td>0.982889</td>\n",
       "      <td>-0.198311</td>\n",
       "      <td>-0.446375</td>\n",
       "      <td>0.419786</td>\n",
       "      <td>-0.705707</td>\n",
       "      <td>-0.226757</td>\n",
       "      <td>0.388951</td>\n",
       "    </tr>\n",
       "    <tr>\n",
       "      <th>4</th>\n",
       "      <td>0.982889</td>\n",
       "      <td>-0.198311</td>\n",
       "      <td>1.686197</td>\n",
       "      <td>0.251391</td>\n",
       "      <td>-0.165018</td>\n",
       "      <td>-0.366521</td>\n",
       "      <td>0.388951</td>\n",
       "    </tr>\n",
       "  </tbody>\n",
       "</table>\n",
       "</div>"
      ],
      "text/plain": [
       "     Gender  Years_in_US  Family_income  ArmCircum  SaggitalAbdominal  \\\n",
       "0 -1.017409    -0.198311      -0.311557   0.380926          -0.823248   \n",
       "1  0.982889    -0.198311       0.037744   0.057088          -0.306067   \n",
       "2 -1.017409    -0.198311      -0.599577  -0.538774          -0.964298   \n",
       "3  0.982889    -0.198311      -0.446375   0.419786          -0.705707   \n",
       "4  0.982889    -0.198311       1.686197   0.251391          -0.165018   \n",
       "\n",
       "   GripStrength  Breast_fed  \n",
       "0      0.282705    0.388951  \n",
       "1     -1.259208    0.388951  \n",
       "2     -0.280860    0.388951  \n",
       "3     -0.226757    0.388951  \n",
       "4     -0.366521    0.388951  "
      ]
     },
     "execution_count": 6,
     "metadata": {},
     "output_type": "execute_result"
    }
   ],
   "source": [
    "# Отнормируем X_train и X_test и запишем в отдельные переменные X_train_scaled и X_test_scaled\n",
    "\n",
    "scaler = StandardScaler()\n",
    "\n",
    "X_train_scaled = pd.DataFrame(scaler.fit_transform(X_train), columns=X_train.columns)\n",
    "X_train_scaled.head()"
   ]
  },
  {
   "cell_type": "code",
   "execution_count": 7,
   "metadata": {},
   "outputs": [
    {
     "data": {
      "text/html": [
       "<div>\n",
       "<style scoped>\n",
       "    .dataframe tbody tr th:only-of-type {\n",
       "        vertical-align: middle;\n",
       "    }\n",
       "\n",
       "    .dataframe tbody tr th {\n",
       "        vertical-align: top;\n",
       "    }\n",
       "\n",
       "    .dataframe thead th {\n",
       "        text-align: right;\n",
       "    }\n",
       "</style>\n",
       "<table border=\"1\" class=\"dataframe\">\n",
       "  <thead>\n",
       "    <tr style=\"text-align: right;\">\n",
       "      <th></th>\n",
       "      <th>Gender</th>\n",
       "      <th>Years_in_US</th>\n",
       "      <th>Family_income</th>\n",
       "      <th>ArmCircum</th>\n",
       "      <th>SaggitalAbdominal</th>\n",
       "      <th>GripStrength</th>\n",
       "      <th>Breast_fed</th>\n",
       "    </tr>\n",
       "  </thead>\n",
       "  <tbody>\n",
       "    <tr>\n",
       "      <th>0</th>\n",
       "      <td>0.982889</td>\n",
       "      <td>-0.198311</td>\n",
       "      <td>1.686197</td>\n",
       "      <td>1.171090</td>\n",
       "      <td>1.621608</td>\n",
       "      <td>-0.068959</td>\n",
       "      <td>0.388951</td>\n",
       "    </tr>\n",
       "    <tr>\n",
       "      <th>1</th>\n",
       "      <td>0.982889</td>\n",
       "      <td>-0.198311</td>\n",
       "      <td>-1.249153</td>\n",
       "      <td>0.536368</td>\n",
       "      <td>-0.635182</td>\n",
       "      <td>1.563125</td>\n",
       "      <td>0.388951</td>\n",
       "    </tr>\n",
       "    <tr>\n",
       "      <th>2</th>\n",
       "      <td>0.982889</td>\n",
       "      <td>-0.198311</td>\n",
       "      <td>-0.722138</td>\n",
       "      <td>0.924974</td>\n",
       "      <td>1.221968</td>\n",
       "      <td>0.629861</td>\n",
       "      <td>0.388951</td>\n",
       "    </tr>\n",
       "    <tr>\n",
       "      <th>3</th>\n",
       "      <td>-1.017409</td>\n",
       "      <td>-0.198311</td>\n",
       "      <td>-0.936621</td>\n",
       "      <td>-0.266750</td>\n",
       "      <td>-0.917281</td>\n",
       "      <td>-0.204215</td>\n",
       "      <td>0.388951</td>\n",
       "    </tr>\n",
       "    <tr>\n",
       "      <th>4</th>\n",
       "      <td>-1.017409</td>\n",
       "      <td>-0.198311</td>\n",
       "      <td>1.686197</td>\n",
       "      <td>0.639996</td>\n",
       "      <td>0.093573</td>\n",
       "      <td>1.008577</td>\n",
       "      <td>-2.571018</td>\n",
       "    </tr>\n",
       "  </tbody>\n",
       "</table>\n",
       "</div>"
      ],
      "text/plain": [
       "     Gender  Years_in_US  Family_income  ArmCircum  SaggitalAbdominal  \\\n",
       "0  0.982889    -0.198311       1.686197   1.171090           1.621608   \n",
       "1  0.982889    -0.198311      -1.249153   0.536368          -0.635182   \n",
       "2  0.982889    -0.198311      -0.722138   0.924974           1.221968   \n",
       "3 -1.017409    -0.198311      -0.936621  -0.266750          -0.917281   \n",
       "4 -1.017409    -0.198311       1.686197   0.639996           0.093573   \n",
       "\n",
       "   GripStrength  Breast_fed  \n",
       "0     -0.068959    0.388951  \n",
       "1      1.563125    0.388951  \n",
       "2      0.629861    0.388951  \n",
       "3     -0.204215    0.388951  \n",
       "4      1.008577   -2.571018  "
      ]
     },
     "execution_count": 7,
     "metadata": {},
     "output_type": "execute_result"
    }
   ],
   "source": [
    "X_test_scaled = pd.DataFrame(scaler.transform(X_test), columns=X_test.columns)\n",
    "X_test_scaled.head()"
   ]
  },
  {
   "cell_type": "markdown",
   "metadata": {},
   "source": [
    "Обучим K-Means с параметрами `n_clusters` = 3, `tol` = 0.0005. Выбор параметров обусловлен тем, что у нас три возможных значения таргета. Но в целом основной подход подбора количества кластеров - по кривой зависимости внутрикластерного и межкластерного расстояний от количества кластеров.\n",
    "\n",
    "Установите `random_state` = 1"
   ]
  },
  {
   "cell_type": "code",
   "execution_count": null,
   "metadata": {},
   "outputs": [],
   "source": []
  },
  {
   "cell_type": "code",
   "execution_count": 8,
   "metadata": {},
   "outputs": [
    {
     "data": {
      "text/html": [
       "<style>#sk-container-id-1 {color: black;}#sk-container-id-1 pre{padding: 0;}#sk-container-id-1 div.sk-toggleable {background-color: white;}#sk-container-id-1 label.sk-toggleable__label {cursor: pointer;display: block;width: 100%;margin-bottom: 0;padding: 0.3em;box-sizing: border-box;text-align: center;}#sk-container-id-1 label.sk-toggleable__label-arrow:before {content: \"▸\";float: left;margin-right: 0.25em;color: #696969;}#sk-container-id-1 label.sk-toggleable__label-arrow:hover:before {color: black;}#sk-container-id-1 div.sk-estimator:hover label.sk-toggleable__label-arrow:before {color: black;}#sk-container-id-1 div.sk-toggleable__content {max-height: 0;max-width: 0;overflow: hidden;text-align: left;background-color: #f0f8ff;}#sk-container-id-1 div.sk-toggleable__content pre {margin: 0.2em;color: black;border-radius: 0.25em;background-color: #f0f8ff;}#sk-container-id-1 input.sk-toggleable__control:checked~div.sk-toggleable__content {max-height: 200px;max-width: 100%;overflow: auto;}#sk-container-id-1 input.sk-toggleable__control:checked~label.sk-toggleable__label-arrow:before {content: \"▾\";}#sk-container-id-1 div.sk-estimator input.sk-toggleable__control:checked~label.sk-toggleable__label {background-color: #d4ebff;}#sk-container-id-1 div.sk-label input.sk-toggleable__control:checked~label.sk-toggleable__label {background-color: #d4ebff;}#sk-container-id-1 input.sk-hidden--visually {border: 0;clip: rect(1px 1px 1px 1px);clip: rect(1px, 1px, 1px, 1px);height: 1px;margin: -1px;overflow: hidden;padding: 0;position: absolute;width: 1px;}#sk-container-id-1 div.sk-estimator {font-family: monospace;background-color: #f0f8ff;border: 1px dotted black;border-radius: 0.25em;box-sizing: border-box;margin-bottom: 0.5em;}#sk-container-id-1 div.sk-estimator:hover {background-color: #d4ebff;}#sk-container-id-1 div.sk-parallel-item::after {content: \"\";width: 100%;border-bottom: 1px solid gray;flex-grow: 1;}#sk-container-id-1 div.sk-label:hover label.sk-toggleable__label {background-color: #d4ebff;}#sk-container-id-1 div.sk-serial::before {content: \"\";position: absolute;border-left: 1px solid gray;box-sizing: border-box;top: 0;bottom: 0;left: 50%;z-index: 0;}#sk-container-id-1 div.sk-serial {display: flex;flex-direction: column;align-items: center;background-color: white;padding-right: 0.2em;padding-left: 0.2em;position: relative;}#sk-container-id-1 div.sk-item {position: relative;z-index: 1;}#sk-container-id-1 div.sk-parallel {display: flex;align-items: stretch;justify-content: center;background-color: white;position: relative;}#sk-container-id-1 div.sk-item::before, #sk-container-id-1 div.sk-parallel-item::before {content: \"\";position: absolute;border-left: 1px solid gray;box-sizing: border-box;top: 0;bottom: 0;left: 50%;z-index: -1;}#sk-container-id-1 div.sk-parallel-item {display: flex;flex-direction: column;z-index: 1;position: relative;background-color: white;}#sk-container-id-1 div.sk-parallel-item:first-child::after {align-self: flex-end;width: 50%;}#sk-container-id-1 div.sk-parallel-item:last-child::after {align-self: flex-start;width: 50%;}#sk-container-id-1 div.sk-parallel-item:only-child::after {width: 0;}#sk-container-id-1 div.sk-dashed-wrapped {border: 1px dashed gray;margin: 0 0.4em 0.5em 0.4em;box-sizing: border-box;padding-bottom: 0.4em;background-color: white;}#sk-container-id-1 div.sk-label label {font-family: monospace;font-weight: bold;display: inline-block;line-height: 1.2em;}#sk-container-id-1 div.sk-label-container {text-align: center;}#sk-container-id-1 div.sk-container {/* jupyter's `normalize.less` sets `[hidden] { display: none; }` but bootstrap.min.css set `[hidden] { display: none !important; }` so we also need the `!important` here to be able to override the default hidden behavior on the sphinx rendered scikit-learn.org. See: https://github.com/scikit-learn/scikit-learn/issues/21755 */display: inline-block !important;position: relative;}#sk-container-id-1 div.sk-text-repr-fallback {display: none;}</style><div id=\"sk-container-id-1\" class=\"sk-top-container\"><div class=\"sk-text-repr-fallback\"><pre>KMeans(n_clusters=3, random_state=1, tol=0.0005)</pre><b>In a Jupyter environment, please rerun this cell to show the HTML representation or trust the notebook. <br />On GitHub, the HTML representation is unable to render, please try loading this page with nbviewer.org.</b></div><div class=\"sk-container\" hidden><div class=\"sk-item\"><div class=\"sk-estimator sk-toggleable\"><input class=\"sk-toggleable__control sk-hidden--visually\" id=\"sk-estimator-id-1\" type=\"checkbox\" checked><label for=\"sk-estimator-id-1\" class=\"sk-toggleable__label sk-toggleable__label-arrow\">KMeans</label><div class=\"sk-toggleable__content\"><pre>KMeans(n_clusters=3, random_state=1, tol=0.0005)</pre></div></div></div></div></div>"
      ],
      "text/plain": [
       "KMeans(n_clusters=3, random_state=1, tol=0.0005)"
      ]
     },
     "execution_count": 8,
     "metadata": {},
     "output_type": "execute_result"
    }
   ],
   "source": [
    "### Your code is here\n",
    "model_kmeans = KMeans(n_clusters=3, tol=0.0005, random_state=1)\n",
    "model_kmeans.fit(X_train_scaled)"
   ]
  },
  {
   "cell_type": "code",
   "execution_count": 9,
   "metadata": {},
   "outputs": [
    {
     "data": {
      "text/plain": [
       "array([[3.35589276, 1.6481583 , 2.08584806],\n",
       "       [3.30977021, 1.44897241, 2.63536465],\n",
       "       [3.28614474, 1.27009526, 2.78765992],\n",
       "       ...,\n",
       "       [3.53301156, 2.0334784 , 2.0393568 ],\n",
       "       [1.6385419 , 3.38872862, 4.14167939],\n",
       "       [5.06234606, 4.46387618, 3.10198443]])"
      ]
     },
     "execution_count": 9,
     "metadata": {},
     "output_type": "execute_result"
    }
   ],
   "source": [
    "model_kmeans.transform(X_train_scaled)"
   ]
  },
  {
   "cell_type": "code",
   "execution_count": 10,
   "metadata": {},
   "outputs": [],
   "source": [
    "# для степа 7 формируем df с расстояниями \n",
    "X_train_scaled_step_7 = pd.DataFrame(data=model_kmeans.transform(X_train_scaled), columns=['col_one', 'col_two', 'col_three'])\n",
    "X_test_scaled_step_7 = pd.DataFrame(data=model_kmeans.transform(X_test_scaled), columns=['col_one', 'col_two', 'col_three'])"
   ]
  },
  {
   "cell_type": "markdown",
   "metadata": {},
   "source": [
    "Посчитаем качество на изначальных данных(нормированных). Для этого обучите с дефолтными параметрами `RandomForestClassifier`, `LogisticRegression`, `LinearSVC`. Там, где нужно, установите `random_state` = 1. (1б)"
   ]
  },
  {
   "cell_type": "code",
   "execution_count": null,
   "metadata": {},
   "outputs": [],
   "source": []
  },
  {
   "cell_type": "code",
   "execution_count": 11,
   "metadata": {},
   "outputs": [
    {
     "name": "stdout",
     "output_type": "stream",
     "text": [
      "Accuracy Random Forest 0.8859\n",
      "Accuracy LR 0.8875\n",
      "Accuracy LinearSVC  0.8920\n"
     ]
    }
   ],
   "source": [
    "### Your code is here\n",
    "model_random_forest = RandomForestClassifier(random_state=1)\n",
    "model_random_forest.fit(X_train_scaled, y_train)\n",
    "\n",
    "model_LR = LogisticRegression(random_state=1)\n",
    "model_LR.fit(X_train_scaled, y_train)\n",
    "\n",
    "model_lin_svc = LinearSVC(random_state=1)\n",
    "model_lin_svc.fit(X_train_scaled, y_train)\n",
    "\n",
    "# Предсказания моделей\n",
    "y_pred_random_forest = model_random_forest.predict(X_test_scaled)\n",
    "y_pred_lr = model_LR.predict(X_test_scaled)\n",
    "y_pred_lin_svc = model_lin_svc.predict(X_test_scaled)\n",
    "\n",
    "print(f'Accuracy Random Forest {accuracy_score(y_test, y_pred_random_forest):.4f}')\n",
    "print(f'Accuracy LR {accuracy_score(y_test, y_pred_lr):.4f}')\n",
    "print(f'Accuracy LinearSVC  {accuracy_score(y_test, y_pred_lin_svc):.4f}')"
   ]
  },
  {
   "cell_type": "code",
   "execution_count": 12,
   "metadata": {},
   "outputs": [],
   "source": [
    "# ОТВЕТ СТЕП 5\n",
    "# 0.886, 0.888, 0.892"
   ]
  },
  {
   "cell_type": "markdown",
   "metadata": {},
   "source": [
    "Добавьте в признаковое описание номер кластера и посчитайте качество с новым признаком! Стало ли качество хоть сколько-то лучше? (1б)"
   ]
  },
  {
   "cell_type": "code",
   "execution_count": 13,
   "metadata": {},
   "outputs": [],
   "source": [
    "### Your code is here"
   ]
  },
  {
   "cell_type": "code",
   "execution_count": 14,
   "metadata": {},
   "outputs": [
    {
     "data": {
      "text/plain": [
       "array([1, 1, 1, ..., 1, 0, 2])"
      ]
     },
     "execution_count": 14,
     "metadata": {},
     "output_type": "execute_result"
    }
   ],
   "source": [
    "model_kmeans.predict(X_train_scaled)"
   ]
  },
  {
   "cell_type": "code",
   "execution_count": 15,
   "metadata": {},
   "outputs": [],
   "source": [
    "# Добавляем номер кластера в X_train_scaled и в X_test_scaled\n",
    "X_train_scaled['cluster_kmean'] = model_kmeans.predict(X_train_scaled)\n",
    "X_test_scaled['cluster_kmean'] = model_kmeans.predict(X_test_scaled)"
   ]
  },
  {
   "cell_type": "code",
   "execution_count": 16,
   "metadata": {},
   "outputs": [
    {
     "name": "stdout",
     "output_type": "stream",
     "text": [
      "Accuracy Random Forest 0.8888\n",
      "Accuracy LR 0.8896\n",
      "Accuracy LinearSVC  0.8920\n"
     ]
    }
   ],
   "source": [
    "model_random_forest = RandomForestClassifier(random_state=1)\n",
    "model_random_forest.fit(X_train_scaled, y_train)\n",
    "\n",
    "model_LR = LogisticRegression(random_state=1)\n",
    "model_LR.fit(X_train_scaled, y_train)\n",
    "\n",
    "model_lin_svc = LinearSVC(random_state=1)\n",
    "model_lin_svc.fit(X_train_scaled, y_train)\n",
    "\n",
    "y_pred_random_forest = model_random_forest.predict(X_test_scaled)\n",
    "y_pred_lr = model_LR.predict(X_test_scaled)\n",
    "y_pred_lin_svc = model_lin_svc.predict(X_test_scaled)\n",
    "\n",
    "print(f'Accuracy Random Forest {accuracy_score(y_test, y_pred_random_forest):.4f}')\n",
    "print(f'Accuracy LR {accuracy_score(y_test, y_pred_lr):.4f}')\n",
    "print(f'Accuracy LinearSVC  {accuracy_score(y_test, y_pred_lin_svc):.4f}')"
   ]
  },
  {
   "cell_type": "code",
   "execution_count": 17,
   "metadata": {},
   "outputs": [],
   "source": [
    "# 0.889, 0.890, 0.892"
   ]
  },
  {
   "cell_type": "code",
   "execution_count": 18,
   "metadata": {},
   "outputs": [],
   "source": [
    "# Не принимает ответ из-за рандома\n",
    "# Код верный\n",
    "# ОТВЕТ СТЕП 6\n",
    "# 0.888, 0.888, 0.892"
   ]
  },
  {
   "cell_type": "markdown",
   "metadata": {},
   "source": [
    "Посчитаем расстояния от объектов до центров кластеров. Для этого воспользуемся методом `transform` обученного класса kmeans.\n",
    "\n",
    "Обучим и посчитаем метрики исключительно на расстояниях до центра. Убедимся, что такой подход имеет право на существование, если данные позволяют, то качество не сильно должно пострадать. А в каких-то случаях может оказаться даже лучше! Таким образом можно снижать размерность данных. (2б)"
   ]
  },
  {
   "cell_type": "code",
   "execution_count": 19,
   "metadata": {},
   "outputs": [],
   "source": [
    "### Your code is here\n"
   ]
  },
  {
   "cell_type": "code",
   "execution_count": 20,
   "metadata": {},
   "outputs": [
    {
     "data": {
      "text/html": [
       "<div>\n",
       "<style scoped>\n",
       "    .dataframe tbody tr th:only-of-type {\n",
       "        vertical-align: middle;\n",
       "    }\n",
       "\n",
       "    .dataframe tbody tr th {\n",
       "        vertical-align: top;\n",
       "    }\n",
       "\n",
       "    .dataframe thead th {\n",
       "        text-align: right;\n",
       "    }\n",
       "</style>\n",
       "<table border=\"1\" class=\"dataframe\">\n",
       "  <thead>\n",
       "    <tr style=\"text-align: right;\">\n",
       "      <th></th>\n",
       "      <th>col_one</th>\n",
       "      <th>col_two</th>\n",
       "      <th>col_three</th>\n",
       "    </tr>\n",
       "  </thead>\n",
       "  <tbody>\n",
       "    <tr>\n",
       "      <th>0</th>\n",
       "      <td>3.355893</td>\n",
       "      <td>1.648158</td>\n",
       "      <td>2.085848</td>\n",
       "    </tr>\n",
       "    <tr>\n",
       "      <th>1</th>\n",
       "      <td>3.309770</td>\n",
       "      <td>1.448972</td>\n",
       "      <td>2.635365</td>\n",
       "    </tr>\n",
       "  </tbody>\n",
       "</table>\n",
       "</div>"
      ],
      "text/plain": [
       "    col_one   col_two  col_three\n",
       "0  3.355893  1.648158   2.085848\n",
       "1  3.309770  1.448972   2.635365"
      ]
     },
     "execution_count": 20,
     "metadata": {},
     "output_type": "execute_result"
    }
   ],
   "source": [
    "X_train_scaled_step_7.head(2)"
   ]
  },
  {
   "cell_type": "code",
   "execution_count": 21,
   "metadata": {},
   "outputs": [
    {
     "data": {
      "text/html": [
       "<div>\n",
       "<style scoped>\n",
       "    .dataframe tbody tr th:only-of-type {\n",
       "        vertical-align: middle;\n",
       "    }\n",
       "\n",
       "    .dataframe tbody tr th {\n",
       "        vertical-align: top;\n",
       "    }\n",
       "\n",
       "    .dataframe thead th {\n",
       "        text-align: right;\n",
       "    }\n",
       "</style>\n",
       "<table border=\"1\" class=\"dataframe\">\n",
       "  <thead>\n",
       "    <tr style=\"text-align: right;\">\n",
       "      <th></th>\n",
       "      <th>col_one</th>\n",
       "      <th>col_two</th>\n",
       "      <th>col_three</th>\n",
       "    </tr>\n",
       "  </thead>\n",
       "  <tbody>\n",
       "    <tr>\n",
       "      <th>0</th>\n",
       "      <td>4.291918</td>\n",
       "      <td>3.443839</td>\n",
       "      <td>2.264262</td>\n",
       "    </tr>\n",
       "    <tr>\n",
       "      <th>1</th>\n",
       "      <td>3.982087</td>\n",
       "      <td>2.811409</td>\n",
       "      <td>2.353323</td>\n",
       "    </tr>\n",
       "  </tbody>\n",
       "</table>\n",
       "</div>"
      ],
      "text/plain": [
       "    col_one   col_two  col_three\n",
       "0  4.291918  3.443839   2.264262\n",
       "1  3.982087  2.811409   2.353323"
      ]
     },
     "execution_count": 21,
     "metadata": {},
     "output_type": "execute_result"
    }
   ],
   "source": [
    "X_test_scaled_step_7.head(2)"
   ]
  },
  {
   "cell_type": "code",
   "execution_count": 22,
   "metadata": {},
   "outputs": [
    {
     "name": "stdout",
     "output_type": "stream",
     "text": [
      "Accuracy Random Forest 0.8835\n",
      "Accuracy LR 0.8920\n",
      "Accuracy LinearSVC  0.8920\n"
     ]
    }
   ],
   "source": [
    "# обучим модели и посчитаем метрики на расстояниях до центров\n",
    "# X_train_scaled_step_7 и X_test_scaled_step_7\n",
    "\n",
    "model_random_forest = RandomForestClassifier(random_state=1)\n",
    "model_random_forest.fit(X_train_scaled_step_7, y_train)\n",
    "\n",
    "model_LR = LogisticRegression(random_state=1)\n",
    "model_LR.fit(X_train_scaled_step_7, y_train)\n",
    "\n",
    "model_lin_svc = LinearSVC(random_state=1)\n",
    "model_lin_svc.fit(X_train_scaled_step_7, y_train)\n",
    "\n",
    "y_pred_random_forest = model_random_forest.predict(X_test_scaled_step_7)\n",
    "y_pred_lr = model_LR.predict(X_test_scaled_step_7)\n",
    "y_pred_lin_svc = model_lin_svc.predict(X_test_scaled_step_7)\n",
    "\n",
    "print(f'Accuracy Random Forest {accuracy_score(y_test, y_pred_random_forest):.4f}')\n",
    "print(f'Accuracy LR {accuracy_score(y_test, y_pred_lr):.4f}')\n",
    "print(f'Accuracy LinearSVC  {accuracy_score(y_test, y_pred_lin_svc):.4f}')"
   ]
  },
  {
   "cell_type": "code",
   "execution_count": 23,
   "metadata": {},
   "outputs": [],
   "source": [
    "# 0.884, 0.892, 0.892"
   ]
  }
 ],
 "metadata": {
  "kernelspec": {
   "display_name": "Python 3 (ipykernel)",
   "language": "python",
   "name": "python3"
  },
  "language_info": {
   "codemirror_mode": {
    "name": "ipython",
    "version": 3
   },
   "file_extension": ".py",
   "mimetype": "text/x-python",
   "name": "python",
   "nbconvert_exporter": "python",
   "pygments_lexer": "ipython3",
   "version": "3.11.4"
  },
  "vscode": {
   "interpreter": {
    "hash": "8db21564b35bbdf2f1295d2e540489014671416f5dc577a5b9d4ca56833a3713"
   }
  }
 },
 "nbformat": 4,
 "nbformat_minor": 2
}
